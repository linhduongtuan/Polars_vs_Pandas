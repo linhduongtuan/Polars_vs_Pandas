{
 "cells": [
  {
   "attachments": {},
   "cell_type": "markdown",
   "metadata": {},
   "source": [
    "# This notebook aims to compare performance of reading/loading large file formats using Pandas and Polars\n",
    "## In this notebook, I use a dataset contained 69 million rows with 7 variables from Reddid at [here](https://files.pushshift.io/reddit/69M_reddit_accounts.csv.gz)\n",
    "## This csv.gz is large 1005Mb and an extracted to *CSV file is 3.3Gb.\n",
    "## If you convert *csv to *parquet and/or *feather, file sizes are reduced to 893.7MB for *parquet and 805.6MB for *feather.\n",
    "## The overall comparison of *csv, *parquet, and *feather formats can be summarized [here](https://twitter.com/levikul09/status/1644629913440501763/photo/1).\n",
    "![alt text](https://pbs.twimg.com/media/FtLmMH4aQAA7qgk?format=png&name=medium)"
   ]
  },
  {
   "attachments": {},
   "cell_type": "markdown",
   "metadata": {},
   "source": [
    "### import Pandas and Polars\n",
    "### Check versions of Pandas and Polars"
   ]
  },
  {
   "cell_type": "code",
   "execution_count": 3,
   "metadata": {},
   "outputs": [
    {
     "name": "stdout",
     "output_type": "stream",
     "text": [
      "Pandas version: 2.0.0\n",
      "Polars version: 0.17.0\n"
     ]
    }
   ],
   "source": [
    "import pandas as pd\n",
    "import polars as pl\n",
    "import time\n",
    "DATA_DIR = '/users/linh/Downloads'\n",
    "\n",
    "print(f'Pandas version: {pd.__version__}')\n",
    "print(f'Polars version: {pl.__version__}')"
   ]
  },
  {
   "attachments": {},
   "cell_type": "markdown",
   "metadata": {},
   "source": [
    "### Indeed, Pandas version 2 has been up-to-date using either pyarrow or NumPy engines.\n",
    "### We can choose these backends via a function `dtype='pyarrow'` or a default as `dtype_backend=numpy_nullable`\n",
    "`pd_feather = pd.read_feather(f\"{DATA_DIR}/reddit.feather\", dtype_backend='pyarrow')`"
   ]
  },
  {
   "attachments": {},
   "cell_type": "markdown",
   "metadata": {},
   "source": [
    "## Check how is fast to read a large file with *CSV format using Pandas and Polars\n",
    "### Polars with Lazily reading"
   ]
  },
  {
   "cell_type": "code",
   "execution_count": 5,
   "metadata": {},
   "outputs": [
    {
     "name": "stdout",
     "output_type": "stream",
     "text": [
      "CPU times: user 1 µs, sys: 1e+03 ns, total: 2 µs\n",
      "Wall time: 1.91 µs\n"
     ]
    }
   ],
   "source": [
    "%time\n",
    "pl_csv = (\n",
    "    pl.scan_csv(f\"{DATA_DIR}/reddit.csv\")\n",
    " \n",
    ")\n"
   ]
  },
  {
   "attachments": {},
   "cell_type": "markdown",
   "metadata": {},
   "source": [
    "### Polars with fully reading"
   ]
  },
  {
   "cell_type": "code",
   "execution_count": 6,
   "metadata": {},
   "outputs": [
    {
     "name": "stdout",
     "output_type": "stream",
     "text": [
      "CPU times: user 1 µs, sys: 1e+03 ns, total: 2 µs\n",
      "Wall time: 2.15 µs\n"
     ]
    },
    {
     "data": {
      "text/html": [
       "<div><style>\n",
       ".dataframe > thead > tr > th,\n",
       ".dataframe > tbody > tr > td {\n",
       "  text-align: right;\n",
       "}\n",
       "</style>\n",
       "<small>shape: (7, 7)</small><table border=\"1\" class=\"dataframe\"><thead><tr><th>describe</th><th>id</th><th>name</th><th>created_utc</th><th>updated_on</th><th>comment_karma</th><th>link_karma</th></tr><tr><td>str</td><td>f64</td><td>str</td><td>f64</td><td>f64</td><td>f64</td><td>f64</td></tr></thead><tbody><tr><td>&quot;count&quot;</td><td>6.9382538e7</td><td>&quot;69382538&quot;</td><td>6.9382538e7</td><td>6.9382538e7</td><td>6.9382538e7</td><td>6.9382538e7</td></tr><tr><td>&quot;null_count&quot;</td><td>0.0</td><td>&quot;0&quot;</td><td>0.0</td><td>0.0</td><td>0.0</td><td>0.0</td></tr><tr><td>&quot;mean&quot;</td><td>4.2844e9</td><td>null</td><td>1.4196e9</td><td>1.5367e9</td><td>327.284744</td><td>159.060551</td></tr><tr><td>&quot;std&quot;</td><td>2.1789e10</td><td>null</td><td>6.5324e7</td><td>135804.527686</td><td>5143.102887</td><td>7600.103613</td></tr><tr><td>&quot;min&quot;</td><td>1.0</td><td>&quot;*polhold00062&quot;</td><td>1.1180e9</td><td>1.5365e9</td><td>-111863.0</td><td>-9108.0</td></tr><tr><td>&quot;max&quot;</td><td>1.6450e11</td><td>&quot;zzzzzzzzzzzzzz…</td><td>1.5373e9</td><td>1.5374e9</td><td>1.3076606e7</td><td>2.4113433e7</td></tr><tr><td>&quot;median&quot;</td><td>4.0664e7</td><td>null</td><td>1.4347e9</td><td>1.5367e9</td><td>0.0</td><td>0.0</td></tr></tbody></table></div>"
      ],
      "text/plain": [
       "shape: (7, 7)\n",
       "┌────────────┬─────────────┬───────────────┬─────────────┬──────────────┬────────────┬─────────────┐\n",
       "│ describe   ┆ id          ┆ name          ┆ created_utc ┆ updated_on   ┆ comment_ka ┆ link_karma  │\n",
       "│ ---        ┆ ---         ┆ ---           ┆ ---         ┆ ---          ┆ rma        ┆ ---         │\n",
       "│ str        ┆ f64         ┆ str           ┆ f64         ┆ f64          ┆ ---        ┆ f64         │\n",
       "│            ┆             ┆               ┆             ┆              ┆ f64        ┆             │\n",
       "╞════════════╪═════════════╪═══════════════╪═════════════╪══════════════╪════════════╪═════════════╡\n",
       "│ count      ┆ 6.9382538e7 ┆ 69382538      ┆ 6.9382538e7 ┆ 6.9382538e7  ┆ 6.9382538e ┆ 6.9382538e7 │\n",
       "│            ┆             ┆               ┆             ┆              ┆ 7          ┆             │\n",
       "│ null_count ┆ 0.0         ┆ 0             ┆ 0.0         ┆ 0.0          ┆ 0.0        ┆ 0.0         │\n",
       "│ mean       ┆ 4.2844e9    ┆ null          ┆ 1.4196e9    ┆ 1.5367e9     ┆ 327.284744 ┆ 159.060551  │\n",
       "│ std        ┆ 2.1789e10   ┆ null          ┆ 6.5324e7    ┆ 135804.52768 ┆ 5143.10288 ┆ 7600.103613 │\n",
       "│            ┆             ┆               ┆             ┆ 6            ┆ 7          ┆             │\n",
       "│ min        ┆ 1.0         ┆ *polhold00062 ┆ 1.1180e9    ┆ 1.5365e9     ┆ -111863.0  ┆ -9108.0     │\n",
       "│ max        ┆ 1.6450e11   ┆ zzzzzzzzzzzzz ┆ 1.5373e9    ┆ 1.5374e9     ┆ 1.3076606e ┆ 2.4113433e7 │\n",
       "│            ┆             ┆ zzzzzzz       ┆             ┆              ┆ 7          ┆             │\n",
       "│ median     ┆ 4.0664e7    ┆ null          ┆ 1.4347e9    ┆ 1.5367e9     ┆ 0.0        ┆ 0.0         │\n",
       "└────────────┴─────────────┴───────────────┴─────────────┴──────────────┴────────────┴─────────────┘"
      ]
     },
     "execution_count": 6,
     "metadata": {},
     "output_type": "execute_result"
    }
   ],
   "source": [
    "%time\n",
    "pl_csv = (\n",
    "    pl.read_csv(f\"{DATA_DIR}/reddit.csv\")\n",
    ")\n",
    "pl_csv.describe()"
   ]
  },
  {
   "cell_type": "code",
   "execution_count": 25,
   "metadata": {},
   "outputs": [
    {
     "name": "stdout",
     "output_type": "stream",
     "text": [
      "CPU times: user 1e+03 ns, sys: 2 µs, total: 3 µs\n",
      "Wall time: 178 µs\n"
     ]
    }
   ],
   "source": [
    "%time\n",
    "pd_csv = (\n",
    "    pd.read_csv(f\"{DATA_DIR}/reddit.csv\") #defaults as NumPy backed\n",
    "    \n",
    ")"
   ]
  },
  {
   "cell_type": "code",
   "execution_count": 26,
   "metadata": {},
   "outputs": [
    {
     "name": "stdout",
     "output_type": "stream",
     "text": [
      "CPU times: user 1e+03 ns, sys: 1e+03 ns, total: 2 µs\n",
      "Wall time: 12.9 µs\n"
     ]
    }
   ],
   "source": [
    "%time\n",
    "pd_csv = (\n",
    "    pd.read_csv(f\"{DATA_DIR}/reddit.csv\", dtype_backend='pyarrow')\n",
    "    \n",
    ")"
   ]
  },
  {
   "cell_type": "code",
   "execution_count": 7,
   "metadata": {},
   "outputs": [
    {
     "name": "stdout",
     "output_type": "stream",
     "text": [
      "CPU times: user 1e+03 ns, sys: 1e+03 ns, total: 2 µs\n",
      "Wall time: 9.06 µs\n"
     ]
    },
    {
     "data": {
      "text/html": [
       "<div>\n",
       "<style scoped>\n",
       "    .dataframe tbody tr th:only-of-type {\n",
       "        vertical-align: middle;\n",
       "    }\n",
       "\n",
       "    .dataframe tbody tr th {\n",
       "        vertical-align: top;\n",
       "    }\n",
       "\n",
       "    .dataframe thead th {\n",
       "        text-align: right;\n",
       "    }\n",
       "</style>\n",
       "<table border=\"1\" class=\"dataframe\">\n",
       "  <thead>\n",
       "    <tr style=\"text-align: right;\">\n",
       "      <th></th>\n",
       "      <th>id</th>\n",
       "      <th>created_utc</th>\n",
       "      <th>updated_on</th>\n",
       "      <th>comment_karma</th>\n",
       "      <th>link_karma</th>\n",
       "    </tr>\n",
       "  </thead>\n",
       "  <tbody>\n",
       "    <tr>\n",
       "      <th>count</th>\n",
       "      <td>6.938254e+07</td>\n",
       "      <td>6.938254e+07</td>\n",
       "      <td>6.938254e+07</td>\n",
       "      <td>6.938254e+07</td>\n",
       "      <td>6.938254e+07</td>\n",
       "    </tr>\n",
       "    <tr>\n",
       "      <th>mean</th>\n",
       "      <td>4.284409e+09</td>\n",
       "      <td>1.419649e+09</td>\n",
       "      <td>1.536730e+09</td>\n",
       "      <td>3.272847e+02</td>\n",
       "      <td>1.590606e+02</td>\n",
       "    </tr>\n",
       "    <tr>\n",
       "      <th>std</th>\n",
       "      <td>2.178923e+10</td>\n",
       "      <td>6.532366e+07</td>\n",
       "      <td>1.358045e+05</td>\n",
       "      <td>5.143103e+03</td>\n",
       "      <td>7.600104e+03</td>\n",
       "    </tr>\n",
       "    <tr>\n",
       "      <th>min</th>\n",
       "      <td>1.000000e+00</td>\n",
       "      <td>1.118030e+09</td>\n",
       "      <td>1.536497e+09</td>\n",
       "      <td>-1.118630e+05</td>\n",
       "      <td>-9.108000e+03</td>\n",
       "    </tr>\n",
       "    <tr>\n",
       "      <th>25%</th>\n",
       "      <td>2.268322e+07</td>\n",
       "      <td>1.381743e+09</td>\n",
       "      <td>1.536595e+09</td>\n",
       "      <td>0.000000e+00</td>\n",
       "      <td>0.000000e+00</td>\n",
       "    </tr>\n",
       "    <tr>\n",
       "      <th>50%</th>\n",
       "      <td>4.066391e+07</td>\n",
       "      <td>1.434715e+09</td>\n",
       "      <td>1.536741e+09</td>\n",
       "      <td>0.000000e+00</td>\n",
       "      <td>0.000000e+00</td>\n",
       "    </tr>\n",
       "    <tr>\n",
       "      <th>75%</th>\n",
       "      <td>5.878004e+07</td>\n",
       "      <td>1.466821e+09</td>\n",
       "      <td>1.536861e+09</td>\n",
       "      <td>0.000000e+00</td>\n",
       "      <td>0.000000e+00</td>\n",
       "    </tr>\n",
       "    <tr>\n",
       "      <th>max</th>\n",
       "      <td>1.644962e+11</td>\n",
       "      <td>1.537306e+09</td>\n",
       "      <td>1.537391e+09</td>\n",
       "      <td>1.307661e+07</td>\n",
       "      <td>2.411343e+07</td>\n",
       "    </tr>\n",
       "  </tbody>\n",
       "</table>\n",
       "</div>"
      ],
      "text/plain": [
       "                 id   created_utc    updated_on  comment_karma    link_karma\n",
       "count  6.938254e+07  6.938254e+07  6.938254e+07   6.938254e+07  6.938254e+07\n",
       "mean   4.284409e+09  1.419649e+09  1.536730e+09   3.272847e+02  1.590606e+02\n",
       "std    2.178923e+10  6.532366e+07  1.358045e+05   5.143103e+03  7.600104e+03\n",
       "min    1.000000e+00  1.118030e+09  1.536497e+09  -1.118630e+05 -9.108000e+03\n",
       "25%    2.268322e+07  1.381743e+09  1.536595e+09   0.000000e+00  0.000000e+00\n",
       "50%    4.066391e+07  1.434715e+09  1.536741e+09   0.000000e+00  0.000000e+00\n",
       "75%    5.878004e+07  1.466821e+09  1.536861e+09   0.000000e+00  0.000000e+00\n",
       "max    1.644962e+11  1.537306e+09  1.537391e+09   1.307661e+07  2.411343e+07"
      ]
     },
     "execution_count": 7,
     "metadata": {},
     "output_type": "execute_result"
    }
   ],
   "source": [
    "\n",
    "pd_csv.describe()"
   ]
  },
  {
   "attachments": {},
   "cell_type": "markdown",
   "metadata": {},
   "source": [
    "## This task, Pandas takes 44.7 seconds using NumPy backend and 56.9 seconds using PyArrow backend, \n",
    "## while Polars with lazily and fully reading needs 1.9 micro-seconds and 8.6 seconds, respectively.\n",
    "# ==> Polars wins Pandas in the reading task using *csv format"
   ]
  },
  {
   "attachments": {},
   "cell_type": "markdown",
   "metadata": {},
   "source": [
    "## Check to read a large *parquet file\n",
    "### Convert *csv to *parquet format, this process takes 26.7 seconds\n",
    "### Now, the parquet file size is 893.7Mb"
   ]
  },
  {
   "cell_type": "code",
   "execution_count": 10,
   "metadata": {},
   "outputs": [
    {
     "name": "stdout",
     "output_type": "stream",
     "text": [
      "CPU times: user 1e+03 ns, sys: 0 ns, total: 1e+03 ns\n",
      "Wall time: 5.96 µs\n"
     ]
    }
   ],
   "source": [
    "%time\n",
    "parquet = (\n",
    "    pl.scan_csv(f\"{DATA_DIR}/reddit.csv\")\n",
    "    .sink_parquet(f\"{DATA_DIR}/reddit.parquet\")\n",
    ")"
   ]
  },
  {
   "cell_type": "code",
   "execution_count": 11,
   "metadata": {},
   "outputs": [
    {
     "name": "stdout",
     "output_type": "stream",
     "text": [
      "CPU times: user 0 ns, sys: 1e+03 ns, total: 1e+03 ns\n",
      "Wall time: 8.82 µs\n"
     ]
    }
   ],
   "source": [
    "%time\n",
    "parquet = (\n",
    "    pl.scan_parquet(f\"{DATA_DIR}/reddit.parquet\")\n",
    ")"
   ]
  },
  {
   "cell_type": "code",
   "execution_count": 12,
   "metadata": {},
   "outputs": [
    {
     "name": "stdout",
     "output_type": "stream",
     "text": [
      "CPU times: user 1e+03 ns, sys: 1e+03 ns, total: 2 µs\n",
      "Wall time: 2.15 µs\n"
     ]
    }
   ],
   "source": [
    "%time\n",
    "pl_parquet = (\n",
    "    pl.read_parquet(f\"{DATA_DIR}/reddit.parquet\")\n",
    ")"
   ]
  },
  {
   "cell_type": "code",
   "execution_count": 13,
   "metadata": {},
   "outputs": [
    {
     "data": {
      "text/html": [
       "<div><style>\n",
       ".dataframe > thead > tr > th,\n",
       ".dataframe > tbody > tr > td {\n",
       "  text-align: right;\n",
       "}\n",
       "</style>\n",
       "<small>shape: (7, 7)</small><table border=\"1\" class=\"dataframe\"><thead><tr><th>describe</th><th>id</th><th>name</th><th>created_utc</th><th>updated_on</th><th>comment_karma</th><th>link_karma</th></tr><tr><td>str</td><td>f64</td><td>str</td><td>f64</td><td>f64</td><td>f64</td><td>f64</td></tr></thead><tbody><tr><td>&quot;count&quot;</td><td>6.9382538e7</td><td>&quot;69382538&quot;</td><td>6.9382538e7</td><td>6.9382538e7</td><td>6.9382538e7</td><td>6.9382538e7</td></tr><tr><td>&quot;null_count&quot;</td><td>0.0</td><td>&quot;0&quot;</td><td>0.0</td><td>0.0</td><td>0.0</td><td>0.0</td></tr><tr><td>&quot;mean&quot;</td><td>4.2844e9</td><td>null</td><td>1.4196e9</td><td>1.5367e9</td><td>327.284744</td><td>159.060551</td></tr><tr><td>&quot;std&quot;</td><td>2.1789e10</td><td>null</td><td>6.5324e7</td><td>135804.527686</td><td>5143.102886</td><td>7600.103614</td></tr><tr><td>&quot;min&quot;</td><td>1.0</td><td>&quot;*polhold00062&quot;</td><td>1.1180e9</td><td>1.5365e9</td><td>-111863.0</td><td>-9108.0</td></tr><tr><td>&quot;max&quot;</td><td>1.6450e11</td><td>&quot;zzzzzzzzzzzzzz…</td><td>1.5373e9</td><td>1.5374e9</td><td>1.3076606e7</td><td>2.4113433e7</td></tr><tr><td>&quot;median&quot;</td><td>4.0664e7</td><td>null</td><td>1.4347e9</td><td>1.5367e9</td><td>0.0</td><td>0.0</td></tr></tbody></table></div>"
      ],
      "text/plain": [
       "shape: (7, 7)\n",
       "┌────────────┬─────────────┬───────────────┬─────────────┬──────────────┬────────────┬─────────────┐\n",
       "│ describe   ┆ id          ┆ name          ┆ created_utc ┆ updated_on   ┆ comment_ka ┆ link_karma  │\n",
       "│ ---        ┆ ---         ┆ ---           ┆ ---         ┆ ---          ┆ rma        ┆ ---         │\n",
       "│ str        ┆ f64         ┆ str           ┆ f64         ┆ f64          ┆ ---        ┆ f64         │\n",
       "│            ┆             ┆               ┆             ┆              ┆ f64        ┆             │\n",
       "╞════════════╪═════════════╪═══════════════╪═════════════╪══════════════╪════════════╪═════════════╡\n",
       "│ count      ┆ 6.9382538e7 ┆ 69382538      ┆ 6.9382538e7 ┆ 6.9382538e7  ┆ 6.9382538e ┆ 6.9382538e7 │\n",
       "│            ┆             ┆               ┆             ┆              ┆ 7          ┆             │\n",
       "│ null_count ┆ 0.0         ┆ 0             ┆ 0.0         ┆ 0.0          ┆ 0.0        ┆ 0.0         │\n",
       "│ mean       ┆ 4.2844e9    ┆ null          ┆ 1.4196e9    ┆ 1.5367e9     ┆ 327.284744 ┆ 159.060551  │\n",
       "│ std        ┆ 2.1789e10   ┆ null          ┆ 6.5324e7    ┆ 135804.52768 ┆ 5143.10288 ┆ 7600.103614 │\n",
       "│            ┆             ┆               ┆             ┆ 6            ┆ 6          ┆             │\n",
       "│ min        ┆ 1.0         ┆ *polhold00062 ┆ 1.1180e9    ┆ 1.5365e9     ┆ -111863.0  ┆ -9108.0     │\n",
       "│ max        ┆ 1.6450e11   ┆ zzzzzzzzzzzzz ┆ 1.5373e9    ┆ 1.5374e9     ┆ 1.3076606e ┆ 2.4113433e7 │\n",
       "│            ┆             ┆ zzzzzzz       ┆             ┆              ┆ 7          ┆             │\n",
       "│ median     ┆ 4.0664e7    ┆ null          ┆ 1.4347e9    ┆ 1.5367e9     ┆ 0.0        ┆ 0.0         │\n",
       "└────────────┴─────────────┴───────────────┴─────────────┴──────────────┴────────────┴─────────────┘"
      ]
     },
     "execution_count": 13,
     "metadata": {},
     "output_type": "execute_result"
    }
   ],
   "source": [
    "pl_parquet.describe()"
   ]
  },
  {
   "cell_type": "code",
   "execution_count": 14,
   "metadata": {},
   "outputs": [
    {
     "name": "stdout",
     "output_type": "stream",
     "text": [
      "CPU times: user 1e+03 ns, sys: 1e+03 ns, total: 2 µs\n",
      "Wall time: 5.72 µs\n"
     ]
    }
   ],
   "source": [
    "%time\n",
    "pd_parquet = (\n",
    "    pd.read_parquet(f\"{DATA_DIR}/reddit.parquet\") # for NumPy backend\n",
    ")"
   ]
  },
  {
   "cell_type": "code",
   "execution_count": 30,
   "metadata": {},
   "outputs": [],
   "source": [
    "pd_feather = pd.read_parquet(f\"{DATA_DIR}/reddit.parquet\", dtype_backend='pyarrow')"
   ]
  },
  {
   "cell_type": "code",
   "execution_count": 16,
   "metadata": {},
   "outputs": [
    {
     "data": {
      "text/html": [
       "<div>\n",
       "<style scoped>\n",
       "    .dataframe tbody tr th:only-of-type {\n",
       "        vertical-align: middle;\n",
       "    }\n",
       "\n",
       "    .dataframe tbody tr th {\n",
       "        vertical-align: top;\n",
       "    }\n",
       "\n",
       "    .dataframe thead th {\n",
       "        text-align: right;\n",
       "    }\n",
       "</style>\n",
       "<table border=\"1\" class=\"dataframe\">\n",
       "  <thead>\n",
       "    <tr style=\"text-align: right;\">\n",
       "      <th></th>\n",
       "      <th>id</th>\n",
       "      <th>created_utc</th>\n",
       "      <th>updated_on</th>\n",
       "      <th>comment_karma</th>\n",
       "      <th>link_karma</th>\n",
       "    </tr>\n",
       "  </thead>\n",
       "  <tbody>\n",
       "    <tr>\n",
       "      <th>count</th>\n",
       "      <td>6.938254e+07</td>\n",
       "      <td>6.938254e+07</td>\n",
       "      <td>6.938254e+07</td>\n",
       "      <td>6.938254e+07</td>\n",
       "      <td>6.938254e+07</td>\n",
       "    </tr>\n",
       "    <tr>\n",
       "      <th>mean</th>\n",
       "      <td>4.284409e+09</td>\n",
       "      <td>1.419649e+09</td>\n",
       "      <td>1.536730e+09</td>\n",
       "      <td>3.272847e+02</td>\n",
       "      <td>1.590606e+02</td>\n",
       "    </tr>\n",
       "    <tr>\n",
       "      <th>std</th>\n",
       "      <td>2.178923e+10</td>\n",
       "      <td>6.532366e+07</td>\n",
       "      <td>1.358045e+05</td>\n",
       "      <td>5.143103e+03</td>\n",
       "      <td>7.600104e+03</td>\n",
       "    </tr>\n",
       "    <tr>\n",
       "      <th>min</th>\n",
       "      <td>1.000000e+00</td>\n",
       "      <td>1.118030e+09</td>\n",
       "      <td>1.536497e+09</td>\n",
       "      <td>-1.118630e+05</td>\n",
       "      <td>-9.108000e+03</td>\n",
       "    </tr>\n",
       "    <tr>\n",
       "      <th>25%</th>\n",
       "      <td>2.268322e+07</td>\n",
       "      <td>1.381743e+09</td>\n",
       "      <td>1.536595e+09</td>\n",
       "      <td>0.000000e+00</td>\n",
       "      <td>0.000000e+00</td>\n",
       "    </tr>\n",
       "    <tr>\n",
       "      <th>50%</th>\n",
       "      <td>4.066391e+07</td>\n",
       "      <td>1.434715e+09</td>\n",
       "      <td>1.536741e+09</td>\n",
       "      <td>0.000000e+00</td>\n",
       "      <td>0.000000e+00</td>\n",
       "    </tr>\n",
       "    <tr>\n",
       "      <th>75%</th>\n",
       "      <td>5.878004e+07</td>\n",
       "      <td>1.466821e+09</td>\n",
       "      <td>1.536861e+09</td>\n",
       "      <td>0.000000e+00</td>\n",
       "      <td>0.000000e+00</td>\n",
       "    </tr>\n",
       "    <tr>\n",
       "      <th>max</th>\n",
       "      <td>1.644962e+11</td>\n",
       "      <td>1.537306e+09</td>\n",
       "      <td>1.537391e+09</td>\n",
       "      <td>1.307661e+07</td>\n",
       "      <td>2.411343e+07</td>\n",
       "    </tr>\n",
       "  </tbody>\n",
       "</table>\n",
       "</div>"
      ],
      "text/plain": [
       "                 id   created_utc    updated_on  comment_karma    link_karma\n",
       "count  6.938254e+07  6.938254e+07  6.938254e+07   6.938254e+07  6.938254e+07\n",
       "mean   4.284409e+09  1.419649e+09  1.536730e+09   3.272847e+02  1.590606e+02\n",
       "std    2.178923e+10  6.532366e+07  1.358045e+05   5.143103e+03  7.600104e+03\n",
       "min    1.000000e+00  1.118030e+09  1.536497e+09  -1.118630e+05 -9.108000e+03\n",
       "25%    2.268322e+07  1.381743e+09  1.536595e+09   0.000000e+00  0.000000e+00\n",
       "50%    4.066391e+07  1.434715e+09  1.536741e+09   0.000000e+00  0.000000e+00\n",
       "75%    5.878004e+07  1.466821e+09  1.536861e+09   0.000000e+00  0.000000e+00\n",
       "max    1.644962e+11  1.537306e+09  1.537391e+09   1.307661e+07  2.411343e+07"
      ]
     },
     "execution_count": 16,
     "metadata": {},
     "output_type": "execute_result"
    }
   ],
   "source": [
    "pd_parquet.describe()"
   ]
  },
  {
   "attachments": {},
   "cell_type": "markdown",
   "metadata": {},
   "source": [
    "## This task, Pandas takes 4 minutes and 41.0 seconds using NumPy backend, 2.6 seconds with PyArrow backend, and 8.4 seconds to describe, \n",
    "## while Polars with lazily, fully reading and describing needs 8.82 micro-seconds, 1.5 seconds and 8.8 seconds, respectively.\n",
    "# ==> Polars wins Pandas in the reading using *parquet format "
   ]
  },
  {
   "attachments": {},
   "cell_type": "markdown",
   "metadata": {},
   "source": [
    "## Check to read a large *feather file\n",
    "### Convert *csv to *feather format, this process takes 26.7 seconds\n",
    "### Now, the parquet file size is 805.6Mb"
   ]
  },
  {
   "cell_type": "code",
   "execution_count": 31,
   "metadata": {},
   "outputs": [
    {
     "name": "stdout",
     "output_type": "stream",
     "text": [
      "CPU times: user 1e+03 ns, sys: 2 µs, total: 3 µs\n",
      "Wall time: 9.06 µs\n"
     ]
    }
   ],
   "source": [
    "%time\n",
    "parquet = (\n",
    "    pl.scan_csv(f\"{DATA_DIR}/reddit.csv\")\n",
    "    .sink_ipc(f\"{DATA_DIR}/reddit.feather\")\n",
    ")"
   ]
  },
  {
   "cell_type": "code",
   "execution_count": 19,
   "metadata": {},
   "outputs": [
    {
     "name": "stdout",
     "output_type": "stream",
     "text": [
      "CPU times: user 0 ns, sys: 1e+03 ns, total: 1e+03 ns\n",
      "Wall time: 3.1 µs\n"
     ]
    }
   ],
   "source": [
    "%time\n",
    "feather = (\n",
    "    pl.scan_ipc(f\"{DATA_DIR}/reddit.feather\")\n",
    ")"
   ]
  },
  {
   "cell_type": "code",
   "execution_count": 20,
   "metadata": {},
   "outputs": [
    {
     "name": "stdout",
     "output_type": "stream",
     "text": [
      "CPU times: user 1e+03 ns, sys: 1e+03 ns, total: 2 µs\n",
      "Wall time: 4.05 µs\n"
     ]
    },
    {
     "name": "stderr",
     "output_type": "stream",
     "text": [
      "Could not mmap compressed IPC file, defaulting to normal read. Toggle off 'memory_map' to silence this warning.\n"
     ]
    }
   ],
   "source": [
    "%time\n",
    "pl_feather = (\n",
    "    pl.read_ipc(f\"{DATA_DIR}/reddit.feather\")\n",
    ")"
   ]
  },
  {
   "cell_type": "code",
   "execution_count": 22,
   "metadata": {},
   "outputs": [
    {
     "data": {
      "text/html": [
       "<div><style>\n",
       ".dataframe > thead > tr > th,\n",
       ".dataframe > tbody > tr > td {\n",
       "  text-align: right;\n",
       "}\n",
       "</style>\n",
       "<small>shape: (7, 7)</small><table border=\"1\" class=\"dataframe\"><thead><tr><th>describe</th><th>id</th><th>name</th><th>created_utc</th><th>updated_on</th><th>comment_karma</th><th>link_karma</th></tr><tr><td>str</td><td>f64</td><td>str</td><td>f64</td><td>f64</td><td>f64</td><td>f64</td></tr></thead><tbody><tr><td>&quot;count&quot;</td><td>6.9382538e7</td><td>&quot;69382538&quot;</td><td>6.9382538e7</td><td>6.9382538e7</td><td>6.9382538e7</td><td>6.9382538e7</td></tr><tr><td>&quot;null_count&quot;</td><td>0.0</td><td>&quot;0&quot;</td><td>0.0</td><td>0.0</td><td>0.0</td><td>0.0</td></tr><tr><td>&quot;mean&quot;</td><td>4.2844e9</td><td>null</td><td>1.4196e9</td><td>1.5367e9</td><td>327.284744</td><td>159.060551</td></tr><tr><td>&quot;std&quot;</td><td>2.1789e10</td><td>null</td><td>6.5324e7</td><td>135804.527686</td><td>5143.102887</td><td>7600.103613</td></tr><tr><td>&quot;min&quot;</td><td>1.0</td><td>&quot;*polhold00062&quot;</td><td>1.1180e9</td><td>1.5365e9</td><td>-111863.0</td><td>-9108.0</td></tr><tr><td>&quot;max&quot;</td><td>1.6450e11</td><td>&quot;zzzzzzzzzzzzzz…</td><td>1.5373e9</td><td>1.5374e9</td><td>1.3076606e7</td><td>2.4113433e7</td></tr><tr><td>&quot;median&quot;</td><td>4.0664e7</td><td>null</td><td>1.4347e9</td><td>1.5367e9</td><td>0.0</td><td>0.0</td></tr></tbody></table></div>"
      ],
      "text/plain": [
       "shape: (7, 7)\n",
       "┌────────────┬─────────────┬───────────────┬─────────────┬──────────────┬────────────┬─────────────┐\n",
       "│ describe   ┆ id          ┆ name          ┆ created_utc ┆ updated_on   ┆ comment_ka ┆ link_karma  │\n",
       "│ ---        ┆ ---         ┆ ---           ┆ ---         ┆ ---          ┆ rma        ┆ ---         │\n",
       "│ str        ┆ f64         ┆ str           ┆ f64         ┆ f64          ┆ ---        ┆ f64         │\n",
       "│            ┆             ┆               ┆             ┆              ┆ f64        ┆             │\n",
       "╞════════════╪═════════════╪═══════════════╪═════════════╪══════════════╪════════════╪═════════════╡\n",
       "│ count      ┆ 6.9382538e7 ┆ 69382538      ┆ 6.9382538e7 ┆ 6.9382538e7  ┆ 6.9382538e ┆ 6.9382538e7 │\n",
       "│            ┆             ┆               ┆             ┆              ┆ 7          ┆             │\n",
       "│ null_count ┆ 0.0         ┆ 0             ┆ 0.0         ┆ 0.0          ┆ 0.0        ┆ 0.0         │\n",
       "│ mean       ┆ 4.2844e9    ┆ null          ┆ 1.4196e9    ┆ 1.5367e9     ┆ 327.284744 ┆ 159.060551  │\n",
       "│ std        ┆ 2.1789e10   ┆ null          ┆ 6.5324e7    ┆ 135804.52768 ┆ 5143.10288 ┆ 7600.103613 │\n",
       "│            ┆             ┆               ┆             ┆ 6            ┆ 7          ┆             │\n",
       "│ min        ┆ 1.0         ┆ *polhold00062 ┆ 1.1180e9    ┆ 1.5365e9     ┆ -111863.0  ┆ -9108.0     │\n",
       "│ max        ┆ 1.6450e11   ┆ zzzzzzzzzzzzz ┆ 1.5373e9    ┆ 1.5374e9     ┆ 1.3076606e ┆ 2.4113433e7 │\n",
       "│            ┆             ┆ zzzzzzz       ┆             ┆              ┆ 7          ┆             │\n",
       "│ median     ┆ 4.0664e7    ┆ null          ┆ 1.4347e9    ┆ 1.5367e9     ┆ 0.0        ┆ 0.0         │\n",
       "└────────────┴─────────────┴───────────────┴─────────────┴──────────────┴────────────┴─────────────┘"
      ]
     },
     "execution_count": 22,
     "metadata": {},
     "output_type": "execute_result"
    }
   ],
   "source": [
    "pl_feather.describe()"
   ]
  },
  {
   "cell_type": "code",
   "execution_count": 23,
   "metadata": {},
   "outputs": [],
   "source": [
    "pd_feather = pd.read_feather(f\"{DATA_DIR}/reddit.feather\") # for Numpy backend"
   ]
  },
  {
   "cell_type": "code",
   "execution_count": 27,
   "metadata": {},
   "outputs": [],
   "source": [
    "pd_feather = pd.read_feather(f\"{DATA_DIR}/reddit.feather\", dtype_backend='pyarrow')"
   ]
  },
  {
   "cell_type": "code",
   "execution_count": 24,
   "metadata": {},
   "outputs": [
    {
     "data": {
      "text/html": [
       "<div>\n",
       "<style scoped>\n",
       "    .dataframe tbody tr th:only-of-type {\n",
       "        vertical-align: middle;\n",
       "    }\n",
       "\n",
       "    .dataframe tbody tr th {\n",
       "        vertical-align: top;\n",
       "    }\n",
       "\n",
       "    .dataframe thead th {\n",
       "        text-align: right;\n",
       "    }\n",
       "</style>\n",
       "<table border=\"1\" class=\"dataframe\">\n",
       "  <thead>\n",
       "    <tr style=\"text-align: right;\">\n",
       "      <th></th>\n",
       "      <th>id</th>\n",
       "      <th>created_utc</th>\n",
       "      <th>updated_on</th>\n",
       "      <th>comment_karma</th>\n",
       "      <th>link_karma</th>\n",
       "    </tr>\n",
       "  </thead>\n",
       "  <tbody>\n",
       "    <tr>\n",
       "      <th>count</th>\n",
       "      <td>6.938254e+07</td>\n",
       "      <td>6.938254e+07</td>\n",
       "      <td>6.938254e+07</td>\n",
       "      <td>6.938254e+07</td>\n",
       "      <td>6.938254e+07</td>\n",
       "    </tr>\n",
       "    <tr>\n",
       "      <th>mean</th>\n",
       "      <td>4.284409e+09</td>\n",
       "      <td>1.419649e+09</td>\n",
       "      <td>1.536730e+09</td>\n",
       "      <td>3.272847e+02</td>\n",
       "      <td>1.590606e+02</td>\n",
       "    </tr>\n",
       "    <tr>\n",
       "      <th>std</th>\n",
       "      <td>2.178923e+10</td>\n",
       "      <td>6.532366e+07</td>\n",
       "      <td>1.358045e+05</td>\n",
       "      <td>5.143103e+03</td>\n",
       "      <td>7.600104e+03</td>\n",
       "    </tr>\n",
       "    <tr>\n",
       "      <th>min</th>\n",
       "      <td>1.000000e+00</td>\n",
       "      <td>1.118030e+09</td>\n",
       "      <td>1.536497e+09</td>\n",
       "      <td>-1.118630e+05</td>\n",
       "      <td>-9.108000e+03</td>\n",
       "    </tr>\n",
       "    <tr>\n",
       "      <th>25%</th>\n",
       "      <td>2.268322e+07</td>\n",
       "      <td>1.381743e+09</td>\n",
       "      <td>1.536595e+09</td>\n",
       "      <td>0.000000e+00</td>\n",
       "      <td>0.000000e+00</td>\n",
       "    </tr>\n",
       "    <tr>\n",
       "      <th>50%</th>\n",
       "      <td>4.066391e+07</td>\n",
       "      <td>1.434715e+09</td>\n",
       "      <td>1.536741e+09</td>\n",
       "      <td>0.000000e+00</td>\n",
       "      <td>0.000000e+00</td>\n",
       "    </tr>\n",
       "    <tr>\n",
       "      <th>75%</th>\n",
       "      <td>5.878004e+07</td>\n",
       "      <td>1.466821e+09</td>\n",
       "      <td>1.536861e+09</td>\n",
       "      <td>0.000000e+00</td>\n",
       "      <td>0.000000e+00</td>\n",
       "    </tr>\n",
       "    <tr>\n",
       "      <th>max</th>\n",
       "      <td>1.644962e+11</td>\n",
       "      <td>1.537306e+09</td>\n",
       "      <td>1.537391e+09</td>\n",
       "      <td>1.307661e+07</td>\n",
       "      <td>2.411343e+07</td>\n",
       "    </tr>\n",
       "  </tbody>\n",
       "</table>\n",
       "</div>"
      ],
      "text/plain": [
       "                 id   created_utc    updated_on  comment_karma    link_karma\n",
       "count  6.938254e+07  6.938254e+07  6.938254e+07   6.938254e+07  6.938254e+07\n",
       "mean   4.284409e+09  1.419649e+09  1.536730e+09   3.272847e+02  1.590606e+02\n",
       "std    2.178923e+10  6.532366e+07  1.358045e+05   5.143103e+03  7.600104e+03\n",
       "min    1.000000e+00  1.118030e+09  1.536497e+09  -1.118630e+05 -9.108000e+03\n",
       "25%    2.268322e+07  1.381743e+09  1.536595e+09   0.000000e+00  0.000000e+00\n",
       "50%    4.066391e+07  1.434715e+09  1.536741e+09   0.000000e+00  0.000000e+00\n",
       "75%    5.878004e+07  1.466821e+09  1.536861e+09   0.000000e+00  0.000000e+00\n",
       "max    1.644962e+11  1.537306e+09  1.537391e+09   1.307661e+07  2.411343e+07"
      ]
     },
     "execution_count": 24,
     "metadata": {},
     "output_type": "execute_result"
    }
   ],
   "source": [
    "pd_feather.describe()"
   ]
  },
  {
   "attachments": {},
   "cell_type": "markdown",
   "metadata": {},
   "source": [
    "## This task, Pandas takes 4 minutes and 42.0 seconds using NumPy backend, 12.0 seconds using PyArrow backend, and 6.7 seconds to describe the file, \n",
    "## while Polars with lazily, fully reading and describing needs 3.1 micro-seconds, 10.6 seconds and 3.5 seconds, respectively.\n",
    "# ==> Polars wins Pandas in the reading task using *feather format"
   ]
  },
  {
   "attachments": {},
   "cell_type": "markdown",
   "metadata": {},
   "source": [
    "# In summary, Polars wins all experiments in reading and describing a large data using *csv, *parquet, and *feather formats.\n",
    "## Pandas with PyArrow backend to read *parquet and *feather is much faster than that of NumPy backend, while Pandas using either PyArrow or NumPy engines does not improve performance to read a large *csv file\n",
    "# Congratulations Polars (written by Rust and Arrow2)!!!!"
   ]
  },
  {
   "cell_type": "markdown",
   "metadata": {},
   "source": []
  }
 ],
 "metadata": {
  "kernelspec": {
   "display_name": "a",
   "language": "python",
   "name": "python3"
  },
  "language_info": {
   "codemirror_mode": {
    "name": "ipython",
    "version": 3
   },
   "file_extension": ".py",
   "mimetype": "text/x-python",
   "name": "python",
   "nbconvert_exporter": "python",
   "pygments_lexer": "ipython3",
   "version": "3.11.2"
  },
  "orig_nbformat": 4
 },
 "nbformat": 4,
 "nbformat_minor": 2
}
